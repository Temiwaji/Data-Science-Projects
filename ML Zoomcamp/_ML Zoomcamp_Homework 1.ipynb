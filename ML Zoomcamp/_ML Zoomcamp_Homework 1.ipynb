{
 "cells": [
  {
   "cell_type": "code",
   "execution_count": 2,
   "id": "a7a7b224",
   "metadata": {},
   "outputs": [],
   "source": [
    "# import all necessary libraries\n",
    "import numpy as np\n",
    "import pandas as pd\n",
    "import seaborn as sns\n",
    "import matplotlib.pyplot as plt\n",
    "%matplotlib inline"
   ]
  },
  {
   "cell_type": "markdown",
   "id": "da47cb62",
   "metadata": {},
   "source": [
    "#### Question 1\n",
    "     What's the version of Pandas that you installed?"
   ]
  },
  {
   "cell_type": "code",
   "execution_count": 3,
   "id": "00e9fc64",
   "metadata": {},
   "outputs": [
    {
     "data": {
      "text/plain": [
       "'1.4.2'"
      ]
     },
     "execution_count": 3,
     "metadata": {},
     "output_type": "execute_result"
    }
   ],
   "source": [
    "pd.__version__"
   ]
  },
  {
   "cell_type": "code",
   "execution_count": 4,
   "id": "41900df0",
   "metadata": {},
   "outputs": [],
   "source": [
    "# load dataset\n",
    "housing_data = pd.read_csv(r\"C:\\Users\\User\\Documents\\Tech\\ML Zoomcamp\\alexeygrigorev_datasets_master_housing.csv\")"
   ]
  },
  {
   "cell_type": "code",
   "execution_count": 6,
   "id": "f7fc47c0",
   "metadata": {},
   "outputs": [
    {
     "data": {
      "text/html": [
       "<div>\n",
       "<style scoped>\n",
       "    .dataframe tbody tr th:only-of-type {\n",
       "        vertical-align: middle;\n",
       "    }\n",
       "\n",
       "    .dataframe tbody tr th {\n",
       "        vertical-align: top;\n",
       "    }\n",
       "\n",
       "    .dataframe thead th {\n",
       "        text-align: right;\n",
       "    }\n",
       "</style>\n",
       "<table border=\"1\" class=\"dataframe\">\n",
       "  <thead>\n",
       "    <tr style=\"text-align: right;\">\n",
       "      <th></th>\n",
       "      <th>longitude</th>\n",
       "      <th>latitude</th>\n",
       "      <th>housing_median_age</th>\n",
       "      <th>total_rooms</th>\n",
       "      <th>total_bedrooms</th>\n",
       "      <th>population</th>\n",
       "      <th>households</th>\n",
       "      <th>median_income</th>\n",
       "      <th>median_house_value</th>\n",
       "      <th>ocean_proximity</th>\n",
       "    </tr>\n",
       "  </thead>\n",
       "  <tbody>\n",
       "    <tr>\n",
       "      <th>0</th>\n",
       "      <td>-122.23</td>\n",
       "      <td>37.88</td>\n",
       "      <td>41.0</td>\n",
       "      <td>880.0</td>\n",
       "      <td>129.0</td>\n",
       "      <td>322.0</td>\n",
       "      <td>126.0</td>\n",
       "      <td>8.3252</td>\n",
       "      <td>452600.0</td>\n",
       "      <td>NEAR BAY</td>\n",
       "    </tr>\n",
       "    <tr>\n",
       "      <th>1</th>\n",
       "      <td>-122.22</td>\n",
       "      <td>37.86</td>\n",
       "      <td>21.0</td>\n",
       "      <td>7099.0</td>\n",
       "      <td>1106.0</td>\n",
       "      <td>2401.0</td>\n",
       "      <td>1138.0</td>\n",
       "      <td>8.3014</td>\n",
       "      <td>358500.0</td>\n",
       "      <td>NEAR BAY</td>\n",
       "    </tr>\n",
       "    <tr>\n",
       "      <th>2</th>\n",
       "      <td>-122.24</td>\n",
       "      <td>37.85</td>\n",
       "      <td>52.0</td>\n",
       "      <td>1467.0</td>\n",
       "      <td>190.0</td>\n",
       "      <td>496.0</td>\n",
       "      <td>177.0</td>\n",
       "      <td>7.2574</td>\n",
       "      <td>352100.0</td>\n",
       "      <td>NEAR BAY</td>\n",
       "    </tr>\n",
       "    <tr>\n",
       "      <th>3</th>\n",
       "      <td>-122.25</td>\n",
       "      <td>37.85</td>\n",
       "      <td>52.0</td>\n",
       "      <td>1274.0</td>\n",
       "      <td>235.0</td>\n",
       "      <td>558.0</td>\n",
       "      <td>219.0</td>\n",
       "      <td>5.6431</td>\n",
       "      <td>341300.0</td>\n",
       "      <td>NEAR BAY</td>\n",
       "    </tr>\n",
       "    <tr>\n",
       "      <th>4</th>\n",
       "      <td>-122.25</td>\n",
       "      <td>37.85</td>\n",
       "      <td>52.0</td>\n",
       "      <td>1627.0</td>\n",
       "      <td>280.0</td>\n",
       "      <td>565.0</td>\n",
       "      <td>259.0</td>\n",
       "      <td>3.8462</td>\n",
       "      <td>342200.0</td>\n",
       "      <td>NEAR BAY</td>\n",
       "    </tr>\n",
       "    <tr>\n",
       "      <th>...</th>\n",
       "      <td>...</td>\n",
       "      <td>...</td>\n",
       "      <td>...</td>\n",
       "      <td>...</td>\n",
       "      <td>...</td>\n",
       "      <td>...</td>\n",
       "      <td>...</td>\n",
       "      <td>...</td>\n",
       "      <td>...</td>\n",
       "      <td>...</td>\n",
       "    </tr>\n",
       "    <tr>\n",
       "      <th>20635</th>\n",
       "      <td>-121.09</td>\n",
       "      <td>39.48</td>\n",
       "      <td>25.0</td>\n",
       "      <td>1665.0</td>\n",
       "      <td>374.0</td>\n",
       "      <td>845.0</td>\n",
       "      <td>330.0</td>\n",
       "      <td>1.5603</td>\n",
       "      <td>78100.0</td>\n",
       "      <td>INLAND</td>\n",
       "    </tr>\n",
       "    <tr>\n",
       "      <th>20636</th>\n",
       "      <td>-121.21</td>\n",
       "      <td>39.49</td>\n",
       "      <td>18.0</td>\n",
       "      <td>697.0</td>\n",
       "      <td>150.0</td>\n",
       "      <td>356.0</td>\n",
       "      <td>114.0</td>\n",
       "      <td>2.5568</td>\n",
       "      <td>77100.0</td>\n",
       "      <td>INLAND</td>\n",
       "    </tr>\n",
       "    <tr>\n",
       "      <th>20637</th>\n",
       "      <td>-121.22</td>\n",
       "      <td>39.43</td>\n",
       "      <td>17.0</td>\n",
       "      <td>2254.0</td>\n",
       "      <td>485.0</td>\n",
       "      <td>1007.0</td>\n",
       "      <td>433.0</td>\n",
       "      <td>1.7000</td>\n",
       "      <td>92300.0</td>\n",
       "      <td>INLAND</td>\n",
       "    </tr>\n",
       "    <tr>\n",
       "      <th>20638</th>\n",
       "      <td>-121.32</td>\n",
       "      <td>39.43</td>\n",
       "      <td>18.0</td>\n",
       "      <td>1860.0</td>\n",
       "      <td>409.0</td>\n",
       "      <td>741.0</td>\n",
       "      <td>349.0</td>\n",
       "      <td>1.8672</td>\n",
       "      <td>84700.0</td>\n",
       "      <td>INLAND</td>\n",
       "    </tr>\n",
       "    <tr>\n",
       "      <th>20639</th>\n",
       "      <td>-121.24</td>\n",
       "      <td>39.37</td>\n",
       "      <td>16.0</td>\n",
       "      <td>2785.0</td>\n",
       "      <td>616.0</td>\n",
       "      <td>1387.0</td>\n",
       "      <td>530.0</td>\n",
       "      <td>2.3886</td>\n",
       "      <td>89400.0</td>\n",
       "      <td>INLAND</td>\n",
       "    </tr>\n",
       "  </tbody>\n",
       "</table>\n",
       "<p>20640 rows × 10 columns</p>\n",
       "</div>"
      ],
      "text/plain": [
       "       longitude  latitude  housing_median_age  total_rooms  total_bedrooms  \\\n",
       "0        -122.23     37.88                41.0        880.0           129.0   \n",
       "1        -122.22     37.86                21.0       7099.0          1106.0   \n",
       "2        -122.24     37.85                52.0       1467.0           190.0   \n",
       "3        -122.25     37.85                52.0       1274.0           235.0   \n",
       "4        -122.25     37.85                52.0       1627.0           280.0   \n",
       "...          ...       ...                 ...          ...             ...   \n",
       "20635    -121.09     39.48                25.0       1665.0           374.0   \n",
       "20636    -121.21     39.49                18.0        697.0           150.0   \n",
       "20637    -121.22     39.43                17.0       2254.0           485.0   \n",
       "20638    -121.32     39.43                18.0       1860.0           409.0   \n",
       "20639    -121.24     39.37                16.0       2785.0           616.0   \n",
       "\n",
       "       population  households  median_income  median_house_value  \\\n",
       "0           322.0       126.0         8.3252            452600.0   \n",
       "1          2401.0      1138.0         8.3014            358500.0   \n",
       "2           496.0       177.0         7.2574            352100.0   \n",
       "3           558.0       219.0         5.6431            341300.0   \n",
       "4           565.0       259.0         3.8462            342200.0   \n",
       "...           ...         ...            ...                 ...   \n",
       "20635       845.0       330.0         1.5603             78100.0   \n",
       "20636       356.0       114.0         2.5568             77100.0   \n",
       "20637      1007.0       433.0         1.7000             92300.0   \n",
       "20638       741.0       349.0         1.8672             84700.0   \n",
       "20639      1387.0       530.0         2.3886             89400.0   \n",
       "\n",
       "      ocean_proximity  \n",
       "0            NEAR BAY  \n",
       "1            NEAR BAY  \n",
       "2            NEAR BAY  \n",
       "3            NEAR BAY  \n",
       "4            NEAR BAY  \n",
       "...               ...  \n",
       "20635          INLAND  \n",
       "20636          INLAND  \n",
       "20637          INLAND  \n",
       "20638          INLAND  \n",
       "20639          INLAND  \n",
       "\n",
       "[20640 rows x 10 columns]"
      ]
     },
     "execution_count": 6,
     "metadata": {},
     "output_type": "execute_result"
    }
   ],
   "source": [
    "housing_data"
   ]
  },
  {
   "cell_type": "markdown",
   "id": "08026fc1",
   "metadata": {},
   "source": [
    "##### Question 2\n",
    "    How many columns are in the dataset?"
   ]
  },
  {
   "cell_type": "code",
   "execution_count": 8,
   "id": "3913ef4a",
   "metadata": {},
   "outputs": [
    {
     "data": {
      "text/plain": [
       "(20640, 10)"
      ]
     },
     "execution_count": 8,
     "metadata": {},
     "output_type": "execute_result"
    }
   ],
   "source": [
    "housing_data.shape"
   ]
  },
  {
   "cell_type": "markdown",
   "id": "82cf3a7f",
   "metadata": {},
   "source": [
    "There are 20640 rows and 10 columns"
   ]
  },
  {
   "cell_type": "markdown",
   "id": "408be4f2",
   "metadata": {},
   "source": [
    "#### Question 3\n",
    "\n",
    "    Which columns in the dataset have missing values?"
   ]
  },
  {
   "cell_type": "code",
   "execution_count": 9,
   "id": "141b5b5d",
   "metadata": {},
   "outputs": [
    {
     "data": {
      "text/plain": [
       "longitude               0\n",
       "latitude                0\n",
       "housing_median_age      0\n",
       "total_rooms             0\n",
       "total_bedrooms        207\n",
       "population              0\n",
       "households              0\n",
       "median_income           0\n",
       "median_house_value      0\n",
       "ocean_proximity         0\n",
       "dtype: int64"
      ]
     },
     "execution_count": 9,
     "metadata": {},
     "output_type": "execute_result"
    }
   ],
   "source": [
    "housing_data.isnull().sum()"
   ]
  },
  {
   "cell_type": "markdown",
   "id": "a36333eb",
   "metadata": {},
   "source": [
    "Column with mssing data is total_bedrooms"
   ]
  },
  {
   "cell_type": "markdown",
   "id": "7e7ca6e2",
   "metadata": {},
   "source": [
    "#### Question 4\n",
    "    How many unique values does the ocean_proximity column have?"
   ]
  },
  {
   "cell_type": "code",
   "execution_count": 10,
   "id": "dfbf508a",
   "metadata": {},
   "outputs": [
    {
     "data": {
      "text/plain": [
       "longitude               844\n",
       "latitude                862\n",
       "housing_median_age       52\n",
       "total_rooms            5926\n",
       "total_bedrooms         1923\n",
       "population             3888\n",
       "households             1815\n",
       "median_income         12928\n",
       "median_house_value     3842\n",
       "ocean_proximity           5\n",
       "dtype: int64"
      ]
     },
     "execution_count": 10,
     "metadata": {},
     "output_type": "execute_result"
    }
   ],
   "source": [
    "housing_data.nunique()"
   ]
  },
  {
   "cell_type": "markdown",
   "id": "bdf3769d",
   "metadata": {},
   "source": [
    "ocean_proximity has 5 unique values"
   ]
  },
  {
   "cell_type": "markdown",
   "id": "b9530fad",
   "metadata": {},
   "source": [
    "#### Question 5\n",
    "    What's the average value of the median_house_value for the houses located near the bay?"
   ]
  },
  {
   "cell_type": "code",
   "execution_count": 15,
   "id": "3c779d1e",
   "metadata": {},
   "outputs": [
    {
     "name": "stdout",
     "output_type": "stream",
     "text": [
      "259212.31179039303\n"
     ]
    }
   ],
   "source": [
    "average_value_near_bay = housing_data[housing_data['ocean_proximity'] == 'NEAR BAY']['median_house_value'].mean()\n",
    "print(average_value_near_bay)\n"
   ]
  },
  {
   "cell_type": "markdown",
   "id": "d6c8270d",
   "metadata": {},
   "source": [
    "#### Question 6 \n",
    "    a. Calculate the average of total_bedrooms column in the dataset.\n",
    "    b. Use the fillna method to fill the missing values in total_bedrooms with the mean value from the previous step.\n",
    "    c. Now, calculate the average of total_bedrooms again.\n",
    "    d. Has it changed?"
   ]
  },
  {
   "cell_type": "code",
   "execution_count": 16,
   "id": "9fd759a8",
   "metadata": {},
   "outputs": [
    {
     "name": "stdout",
     "output_type": "stream",
     "text": [
      "537.8705525375618\n"
     ]
    }
   ],
   "source": [
    "# a\n",
    "average_total_bedrooms = housing_data['total_bedrooms'].mean()\n",
    "print(average_total_bedrooms)\n"
   ]
  },
  {
   "cell_type": "code",
   "execution_count": 17,
   "id": "ac1ddaff",
   "metadata": {},
   "outputs": [],
   "source": [
    "#b. \n",
    "# Assuming you have a DataFrame called 'housing_data'\n",
    "# Calculate the mean of the 'total_bedrooms' column\n",
    "average_total_bedrooms = housing_data['total_bedrooms'].mean()\n",
    "\n",
    "# Fill missing values in 'total_bedrooms' with the calculated mean\n",
    "housing_data['total_bedrooms'].fillna(average_total_bedrooms, inplace=True)\n"
   ]
  },
  {
   "cell_type": "code",
   "execution_count": 18,
   "id": "2f244bda",
   "metadata": {},
   "outputs": [
    {
     "name": "stdout",
     "output_type": "stream",
     "text": [
      "Mean value did not change after filling missing values.\n"
     ]
    }
   ],
   "source": [
    "# Calculate the mean of 'total_bedrooms' before filling missing values\n",
    "mean_before_fill = housing_data['total_bedrooms'].mean()\n",
    "\n",
    "# Fill missing values in 'total_bedrooms' with the calculated mean\n",
    "housing_data['total_bedrooms'].fillna(mean_before_fill, inplace=True)\n",
    "\n",
    "# Calculate the mean of 'total_bedrooms' after filling missing values\n",
    "mean_after_fill = housing_data['total_bedrooms'].mean()\n",
    "\n",
    "# Compare the mean values before and after filling\n",
    "if mean_before_fill == mean_after_fill:\n",
    "    print(\"Mean value did not change after filling missing values.\")\n",
    "else:\n",
    "    print(\"Mean value changed after filling missing values.\")\n"
   ]
  },
  {
   "cell_type": "markdown",
   "id": "7056d3fa",
   "metadata": {},
   "source": [
    "#### Question 7\n",
    "    a. Select all the options located on islands.\n",
    "    b. Select only columns housing_median_age, total_rooms, total_bedrooms.\n",
    "    c. Get the underlying NumPy array. Let's call it X.\n",
    "    d. Compute matrix-matrix multiplication between the transpose of X and X. To get the transpose, use X.T. Let's call the result XTX.\n",
    "    e. Compute the inverse of XTX.\n",
    "    d. Create an array y with values [950, 1300, 800, 1000, 1300].\n",
    "    e. Multiply the inverse of XTX with the transpose of X, and then multiply the result by y. Call the result w.\n",
    "    f. What's the value of the last element of w?"
   ]
  },
  {
   "cell_type": "code",
   "execution_count": 31,
   "id": "71e5f8f4",
   "metadata": {},
   "outputs": [],
   "source": [
    "# a.\n",
    "options_on_islands = housing_data[housing_data[\"ocean_proximity\"] == \"NEAR BAY\"]"
   ]
  },
  {
   "cell_type": "code",
   "execution_count": 22,
   "id": "8b636278",
   "metadata": {},
   "outputs": [
    {
     "data": {
      "text/plain": [
       "['housing_median_age', 'total_rooms', 'total_bedrooms']"
      ]
     },
     "execution_count": 22,
     "metadata": {},
     "output_type": "execute_result"
    }
   ],
   "source": [
    "#b.\n",
    "selected_columns = ['housing_median_age', 'total_rooms', 'total_bedrooms']\n",
    "subset_housing_data = housing_data[selected_columns]\n",
    "selected_columns"
   ]
  },
  {
   "cell_type": "code",
   "execution_count": 30,
   "id": "7c3263a1",
   "metadata": {},
   "outputs": [],
   "source": [
    "# c.\n",
    "X = housing_data.values\n"
   ]
  },
  {
   "cell_type": "code",
   "execution_count": null,
   "id": "a7bd450c",
   "metadata": {},
   "outputs": [],
   "source": []
  }
 ],
 "metadata": {
  "kernelspec": {
   "display_name": "Python 3 (ipykernel)",
   "language": "python",
   "name": "python3"
  },
  "language_info": {
   "codemirror_mode": {
    "name": "ipython",
    "version": 3
   },
   "file_extension": ".py",
   "mimetype": "text/x-python",
   "name": "python",
   "nbconvert_exporter": "python",
   "pygments_lexer": "ipython3",
   "version": "3.9.12"
  }
 },
 "nbformat": 4,
 "nbformat_minor": 5
}
